{
  "nbformat": 4,
  "nbformat_minor": 0,
  "metadata": {
    "colab": {
      "provenance": [],
      "gpuType": "T4",
      "authorship_tag": "ABX9TyPMSnz8yL0G2bdpSoTRYUBC",
      "include_colab_link": true
    },
    "kernelspec": {
      "name": "python3",
      "display_name": "Python 3"
    },
    "language_info": {
      "name": "python"
    },
    "accelerator": "GPU"
  },
  "cells": [
    {
      "cell_type": "markdown",
      "metadata": {
        "id": "view-in-github",
        "colab_type": "text"
      },
      "source": [
        "<a href=\"https://colab.research.google.com/github/KhairulBasharbd/Parallel_Processing/blob/master/Matrix_multiplication.ipynb\" target=\"_parent\"><img src=\"https://colab.research.google.com/assets/colab-badge.svg\" alt=\"Open In Colab\"/></a>"
      ]
    },
    {
      "cell_type": "code",
      "source": [
        "!nvcc --version"
      ],
      "metadata": {
        "colab": {
          "base_uri": "https://localhost:8080/"
        },
        "id": "ssvFkZR6nK4h",
        "outputId": "c9b427eb-a29c-47e6-f1b7-5165714e6ad6"
      },
      "execution_count": null,
      "outputs": [
        {
          "output_type": "stream",
          "name": "stdout",
          "text": [
            "nvcc: NVIDIA (R) Cuda compiler driver\n",
            "Copyright (c) 2005-2023 NVIDIA Corporation\n",
            "Built on Tue_Aug_15_22:02:13_PDT_2023\n",
            "Cuda compilation tools, release 12.2, V12.2.140\n",
            "Build cuda_12.2.r12.2/compiler.33191640_0\n"
          ]
        }
      ]
    },
    {
      "cell_type": "code",
      "source": [
        "!pip install git+https://github.com/andreinechaev/nvcc4jupyter.git"
      ],
      "metadata": {
        "colab": {
          "base_uri": "https://localhost:8080/"
        },
        "id": "JGOIGvsZnWOS",
        "outputId": "f189fe0e-5019-4a3a-d7a8-90e2650f1762"
      },
      "execution_count": null,
      "outputs": [
        {
          "output_type": "stream",
          "name": "stdout",
          "text": [
            "Collecting git+https://github.com/andreinechaev/nvcc4jupyter.git\n",
            "  Cloning https://github.com/andreinechaev/nvcc4jupyter.git to /tmp/pip-req-build-rj1x9vp_\n",
            "  Running command git clone --filter=blob:none --quiet https://github.com/andreinechaev/nvcc4jupyter.git /tmp/pip-req-build-rj1x9vp_\n",
            "  Resolved https://github.com/andreinechaev/nvcc4jupyter.git to commit 0d2ab99cccbbc682722e708515fe9c4cfc50185a\n",
            "  Preparing metadata (setup.py) ... \u001b[?25l\u001b[?25hdone\n",
            "Building wheels for collected packages: NVCCPlugin\n",
            "  Building wheel for NVCCPlugin (setup.py) ... \u001b[?25l\u001b[?25hdone\n",
            "  Created wheel for NVCCPlugin: filename=NVCCPlugin-0.0.2-py3-none-any.whl size=4716 sha256=f1ab71069a2fc5404ce53e55005d33c57078e61b9ce1d672845fc34db2508373\n",
            "  Stored in directory: /tmp/pip-ephem-wheel-cache-hs_91y7p/wheels/a8/b9/18/23f8ef71ceb0f63297dd1903aedd067e6243a68ea756d6feea\n",
            "Successfully built NVCCPlugin\n",
            "Installing collected packages: NVCCPlugin\n",
            "Successfully installed NVCCPlugin-0.0.2\n"
          ]
        }
      ]
    },
    {
      "cell_type": "code",
      "source": [
        "%load_ext nvcc_plugin"
      ],
      "metadata": {
        "colab": {
          "base_uri": "https://localhost:8080/"
        },
        "id": "7C6IWQm2nhSC",
        "outputId": "454c08da-a2eb-4f55-c16b-c3d1c6be06f8"
      },
      "execution_count": null,
      "outputs": [
        {
          "output_type": "stream",
          "name": "stdout",
          "text": [
            "created output directory at /content/src\n",
            "Out bin /content/result.out\n"
          ]
        }
      ]
    },
    {
      "cell_type": "code",
      "source": [
        "%%cu\n",
        "#include <stdio.h>\n",
        "#include <cuda.h>\n",
        "#include <fstream>\n",
        "#include <iostream>\n",
        "#include <sstream>\n",
        "#include <string>\n",
        "\n",
        "using namespace std;\n",
        "\n",
        "__global__ void matproduct(int *l, int *m, int *n, int row1, int col1, int row2, int col2)\n",
        "{\n",
        "    int x = blockIdx.x;\n",
        "    int y = blockIdx.y;\n",
        "    int z = blockIdx.z;\n",
        "\n",
        "    int i;\n",
        "    n[(col2 * row1 * z) + (col2 * y) + x] = 0;\n",
        "\n",
        "    for (i = 0; i < col1; i++)\n",
        "    {\n",
        "        n[(col2 * row1 * z) + (col2 * y) + x] += l[(col1 * row1 * z) + (col1 * y) + i] * m[(col2 * row2 * z) + (col2 * i) + x];\n",
        "    }\n",
        "}\n",
        "\n",
        "int main()\n",
        "{\n",
        "    int num_matrices; //1000\n",
        "    int row1; //25\n",
        "    int col1; //25\n",
        "    int row2; //25\n",
        "    int col2; //25\n",
        "\n",
        "    ifstream file(\"input.txt\");\n",
        "    if (!file.is_open())\n",
        "    {\n",
        "        std::cerr << \"Unable to open file.\" << std::endl;\n",
        "        return 1;\n",
        "    }\n",
        "\n",
        "    string line;\n",
        "    while (getline(file, line))\n",
        "    {\n",
        "        istringstream iss(line);\n",
        "        int k, m, n, p;\n",
        "\n",
        "        if (iss >> k >> m >> n >> p)\n",
        "        {\n",
        "            std::cout << \"K: \" << k << \", M: \" << m << \", N: \" << n << \", p: \" << p << std::endl;\n",
        "            num_matrices = k;\n",
        "            row1 = m;\n",
        "            col1 = n;\n",
        "            row2 = n;\n",
        "            col2 = p;\n",
        "        }\n",
        "        else\n",
        "        {\n",
        "            std::cerr << \"Failed to k, m, n, p from the line.\" << std::endl;\n",
        "        }\n",
        "    }\n",
        "\n",
        "    int a[row1 * col1 * num_matrices];\n",
        "    int b[row2 * col2 * num_matrices];\n",
        "    int c[row1 * col2 * num_matrices];\n",
        "\n",
        "    int *d, *e, *f;\n",
        "    int i, j;\n",
        "\n",
        "    cudaEvent_t start, end;\n",
        "    cudaEventCreate(&start);\n",
        "    cudaEventCreate(&end);\n",
        "    cudaEventRecord(start);\n",
        "\n",
        "    // Initialize matrices a and b\n",
        "    int element = 1;\n",
        "    for (int k = 0; k < num_matrices; k++)\n",
        "    {\n",
        "        for (i = 0; i < row1; i++)\n",
        "        {\n",
        "            for (j = 0; j < col1; j++)\n",
        "            {\n",
        "                a[(col1 * row1 * k) + (col1 * i) + j] = element++;\n",
        "            }\n",
        "        }\n",
        "\n",
        "        element = 2;\n",
        "        for (i = 0; i < row2; i++)\n",
        "        {\n",
        "            for (j = 0; j < col2; j++)\n",
        "            {\n",
        "                b[(col2 * row2 * k) + (col2 * i) + j] = element++;\n",
        "            }\n",
        "        }\n",
        "    }\n",
        "\n",
        "    cudaMalloc((void **)&d, row1 * col1 * num_matrices * sizeof(int));\n",
        "    cudaMalloc((void **)&e, row2 * col2 * num_matrices * sizeof(int));\n",
        "    cudaMalloc((void **)&f, row1 * col2 * num_matrices * sizeof(int));\n",
        "\n",
        "    cudaMemcpy(d, a, row1 * col1 * num_matrices * sizeof(int), cudaMemcpyHostToDevice);\n",
        "    cudaMemcpy(e, b, row2 * col2 * num_matrices * sizeof(int), cudaMemcpyHostToDevice);\n",
        "\n",
        "    dim3 grid(col2, row1, num_matrices);\n",
        "\n",
        "    matproduct<<<grid, 1>>>(d, e, f, row1, col1, row2, col2);\n",
        "\n",
        "    cudaMemcpy(c, f, row1 * col2 * num_matrices * sizeof(int), cudaMemcpyDeviceToHost);\n",
        "\n",
        "    printf(\"\\nProduct of matrices:\\n\");\n",
        "    for (int k = 0; k < 1; k++)\n",
        "    {\n",
        "        printf(\"Matrix %d:\\n\", k + 1);\n",
        "        for (i = 0; i < row1; i++)\n",
        "        {\n",
        "            for (j = 0; j < col2; j++)\n",
        "            {\n",
        "                printf(\"%d\\t\", c[(col2 * row1 * k) + (col2 * i) + j]);\n",
        "            }\n",
        "            printf(\"\\n\");\n",
        "        }\n",
        "        printf(\"\\n\");\n",
        "    }\n",
        "\n",
        "    cudaEventRecord(end);\n",
        "    cudaEventSynchronize(end);\n",
        "    float milliseconds = 0;\n",
        "    cudaEventElapsedTime(&milliseconds, start, end);\n",
        "    printf(\"\\nTime taken: %f\\n \", milliseconds);\n",
        "\n",
        "    cudaFree(d);\n",
        "    cudaFree(e);\n",
        "    cudaFree(f);\n",
        "\n",
        "    return 0;\n",
        "}\n"
      ],
      "metadata": {
        "id": "bLtobCqFAAIj",
        "colab": {
          "base_uri": "https://localhost:8080/"
        },
        "outputId": "2023338f-ca1b-4022-d5e9-9a2765c00666"
      },
      "execution_count": null,
      "outputs": [
        {
          "output_type": "stream",
          "name": "stdout",
          "text": [
            "K: 10, M: 10, N: 10, p: 10\n",
            "\n",
            "Product of matrices:\n",
            "Matrix 1:\n",
            "3410\t3465\t3520\t3575\t3630\t3685\t3740\t3795\t3850\t3905\t\n",
            "8110\t8265\t8420\t8575\t8730\t8885\t9040\t9195\t9350\t9505\t\n",
            "12810\t13065\t13320\t13575\t13830\t14085\t14340\t14595\t14850\t15105\t\n",
            "17510\t17865\t18220\t18575\t18930\t19285\t19640\t19995\t20350\t20705\t\n",
            "22210\t22665\t23120\t23575\t24030\t24485\t24940\t25395\t25850\t26305\t\n",
            "26910\t27465\t28020\t28575\t29130\t29685\t30240\t30795\t31350\t31905\t\n",
            "31610\t32265\t32920\t33575\t34230\t34885\t35540\t36195\t36850\t37505\t\n",
            "36310\t37065\t37820\t38575\t39330\t40085\t40840\t41595\t42350\t43105\t\n",
            "41010\t41865\t42720\t43575\t44430\t45285\t46140\t46995\t47850\t48705\t\n",
            "45710\t46665\t47620\t48575\t49530\t50485\t51440\t52395\t53350\t54305\t\n",
            "\n",
            "\n",
            "Time taken: 117.480286\n",
            " \n"
          ]
        }
      ]
    },
    {
      "cell_type": "code",
      "source": [],
      "metadata": {
        "id": "ja62RMu0mrCl"
      },
      "execution_count": null,
      "outputs": []
    }
  ]
}