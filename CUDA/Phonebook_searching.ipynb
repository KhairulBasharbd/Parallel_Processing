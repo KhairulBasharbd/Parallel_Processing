{
  "nbformat": 4,
  "nbformat_minor": 0,
  "metadata": {
    "colab": {
      "provenance": [],
      "gpuType": "T4",
      "authorship_tag": "ABX9TyOzJh3wxnfhl9BJ6dJA1wLp"
    },
    "kernelspec": {
      "name": "python3",
      "display_name": "Python 3"
    },
    "language_info": {
      "name": "python"
    },
    "accelerator": "GPU"
  },
  "cells": [
    {
      "cell_type": "code",
      "execution_count": 1,
      "metadata": {
        "colab": {
          "base_uri": "https://localhost:8080/"
        },
        "id": "8ykvezhXn4hL",
        "outputId": "d9f7f0db-b9de-41d2-8069-55643ef4a7f8"
      },
      "outputs": [
        {
          "output_type": "stream",
          "name": "stdout",
          "text": [
            "nvcc: NVIDIA (R) Cuda compiler driver\n",
            "Copyright (c) 2005-2023 NVIDIA Corporation\n",
            "Built on Tue_Aug_15_22:02:13_PDT_2023\n",
            "Cuda compilation tools, release 12.2, V12.2.140\n",
            "Build cuda_12.2.r12.2/compiler.33191640_0\n"
          ]
        }
      ],
      "source": [
        "!nvcc --version\n"
      ]
    },
    {
      "cell_type": "code",
      "source": [
        "!pip install git+https://github.com/andreinechaev/nvcc4jupyter.git\n"
      ],
      "metadata": {
        "colab": {
          "base_uri": "https://localhost:8080/"
        },
        "id": "L76iwQWuoI5h",
        "outputId": "9a48eefd-c446-4f8e-d2c2-7a0f6d07fa93"
      },
      "execution_count": 2,
      "outputs": [
        {
          "output_type": "stream",
          "name": "stdout",
          "text": [
            "Collecting git+https://github.com/andreinechaev/nvcc4jupyter.git\n",
            "  Cloning https://github.com/andreinechaev/nvcc4jupyter.git to /tmp/pip-req-build-gkel7mj_\n",
            "  Running command git clone --filter=blob:none --quiet https://github.com/andreinechaev/nvcc4jupyter.git /tmp/pip-req-build-gkel7mj_\n",
            "  Resolved https://github.com/andreinechaev/nvcc4jupyter.git to commit 0d2ab99cccbbc682722e708515fe9c4cfc50185a\n",
            "  Preparing metadata (setup.py) ... \u001b[?25l\u001b[?25hdone\n",
            "Building wheels for collected packages: NVCCPlugin\n",
            "  Building wheel for NVCCPlugin (setup.py) ... \u001b[?25l\u001b[?25hdone\n",
            "  Created wheel for NVCCPlugin: filename=NVCCPlugin-0.0.2-py3-none-any.whl size=4716 sha256=179a162d6a5689301997a782f0c0c3333a10b2a3d898c8f5b832cea8a16f9f62\n",
            "  Stored in directory: /tmp/pip-ephem-wheel-cache-qm5fjpu7/wheels/a8/b9/18/23f8ef71ceb0f63297dd1903aedd067e6243a68ea756d6feea\n",
            "Successfully built NVCCPlugin\n",
            "Installing collected packages: NVCCPlugin\n",
            "Successfully installed NVCCPlugin-0.0.2\n"
          ]
        }
      ]
    },
    {
      "cell_type": "code",
      "source": [
        "%load_ext nvcc_plugin\n"
      ],
      "metadata": {
        "colab": {
          "base_uri": "https://localhost:8080/"
        },
        "id": "xMoOJtTloUhf",
        "outputId": "94998878-524b-4056-d33f-ef6f0fba6815"
      },
      "execution_count": 3,
      "outputs": [
        {
          "output_type": "stream",
          "name": "stdout",
          "text": [
            "created output directory at /content/src\n",
            "Out bin /content/result.out\n"
          ]
        }
      ]
    },
    {
      "cell_type": "code",
      "source": [
        "%%cu\n",
        "#include <iostream>\n",
        "#include <fstream>\n",
        "#include <sstream>\n",
        "#include <vector>\n",
        "#include <cstring>\n",
        "#include <cuda_runtime.h>\n",
        "#define T 1000\n",
        "#define S 50\n",
        "\n",
        "using namespace std;\n",
        "\n",
        "struct Contact {\n",
        "    char name[S];\n",
        "    char phone[S];\n",
        "};\n",
        "\n",
        "// Kernel\n",
        "__global__ void searchContact(Contact* contacts, const char* searchName, int* result, int totalContacts) {\n",
        "    int i = threadIdx.x;\n",
        "\n",
        "    int searchNameLen = 0;\n",
        "    for(int j=0;searchName[j]!='\\0';j++) searchNameLen++;\n",
        "    int contactLen = 0;\n",
        "    for(int j=0;contacts[i].name[j]!='\\0';j++) contactLen++;\n",
        "\n",
        "    if (searchNameLen <= contactLen) {\n",
        "        int strLen = searchNameLen;\n",
        "        int flag = 1;\n",
        "\n",
        "        for (int j = 0; j < strLen; ++j) {\n",
        "            if (searchName[j] != contacts[i].name[j]) {\n",
        "                flag = 0;\n",
        "                break;\n",
        "            }\n",
        "        }\n",
        "\n",
        "        //This part is for  exact matching\n",
        "        /*if (searchNameLen != contactLen) {\n",
        "            flag = 0;\n",
        "        }*/\n",
        "\n",
        "        if (flag == 1) {\n",
        "            result[i] = i;\n",
        "        } else {\n",
        "            result[i] = -1;\n",
        "        }\n",
        "    } else {\n",
        "        result[i] = -1;\n",
        "    }\n",
        "}\n",
        "\n",
        "int main() {\n",
        "    Contact contacts[T];\n",
        "    char searchName[S] = \"Em\";\n",
        "\n",
        "    const char* phonebookFile_1 = \"/content/input1.txt\";\n",
        "    const char* phonebookFile_2 = \"/content/input2.txt\";\n",
        "\n",
        "    int totalContacts = 0;\n",
        "\n",
        "    ifstream file_1(phonebookFile_1);\n",
        "    ifstream file_2(phonebookFile_2);\n",
        "\n",
        "    if (!file_1.is_open() || !file_2.is_open()) {\n",
        "        cerr << \"Error opening one or more files!\" << endl;\n",
        "        return 1;\n",
        "    }\n",
        "\n",
        "    string line;\n",
        "    while (getline(file_1, line)) {\n",
        "        istringstream iss(line);\n",
        "        iss.getline(contacts[totalContacts].name, S, ',');\n",
        "        iss.getline(contacts[totalContacts].phone, S);\n",
        "        totalContacts += 1;\n",
        "    }\n",
        "\n",
        "    while (getline(file_2, line)) {\n",
        "        istringstream iss(line);\n",
        "        iss.getline(contacts[totalContacts].name, S, ',');\n",
        "        iss.getline(contacts[totalContacts].phone, S);\n",
        "        totalContacts += 1;\n",
        "    }\n",
        "\n",
        "    file_1.close();\n",
        "    file_2.close();\n",
        "\n",
        "    cudaEvent_t start, end;\n",
        "    cudaEventCreate(&start);\n",
        "    cudaEventCreate(&end);\n",
        "    cudaEventRecord(start);\n",
        "\n",
        "    // Device memory\n",
        "    Contact* dContacts;\n",
        "    char* dSearchName;\n",
        "    int* dResult;\n",
        "\n",
        "    int t = totalContacts;\n",
        "\n",
        "    cudaMalloc((void**)&dContacts, sizeof(Contact) * t);\n",
        "    cudaMalloc((void**)&dSearchName, S * sizeof(char));\n",
        "    cudaMalloc((void**)&dResult, sizeof(int) * t);\n",
        "\n",
        "    cudaMemcpy(dContacts, contacts, sizeof(Contact) * t, cudaMemcpyHostToDevice);\n",
        "    cudaMemcpy(dSearchName, searchName, sizeof(char) * S, cudaMemcpyHostToDevice);\n",
        "\n",
        "    dim3 gridSize(1);\n",
        "    dim3 blockSize(t);\n",
        "\n",
        "    searchContact<<<gridSize, blockSize>>>(dContacts, dSearchName, dResult, totalContacts);\n",
        "    cudaDeviceSynchronize();\n",
        "    int result[t] = {0};\n",
        "    cudaMemcpy(result, dResult, sizeof(int) * t, cudaMemcpyDeviceToHost);\n",
        "\n",
        "    int notFound = 1;\n",
        "\n",
        "    for (int y = 0; y < t; y++) {\n",
        "        if (result[y] >= 0) {\n",
        "            notFound = 0;\n",
        "            cout << contacts[result[y]].name << \"  \" << contacts[result[y]].phone << endl;\n",
        "            //break;\n",
        "        }\n",
        "    }\n",
        "\n",
        "    if (notFound) {\n",
        "        cout << \"Not Found\" << endl;\n",
        "    }\n",
        "\n",
        "    cudaEventRecord(end);\n",
        "    cudaEventSynchronize(end);\n",
        "    float milliseconds = 0;\n",
        "    cudaEventElapsedTime(&milliseconds, start, end);\n",
        "    cout << \"Time taken : \" << milliseconds << \" miliseconds.\" << endl;\n",
        "\n",
        "    // Free device memory\n",
        "    cudaFree(dContacts);\n",
        "    cudaFree(dResult);\n",
        "\n",
        "    return 0;\n",
        "}\n"
      ],
      "metadata": {
        "colab": {
          "base_uri": "https://localhost:8080/"
        },
        "id": "UWSDzPq3oexR",
        "outputId": "196bed40-1f63-4988-fa0a-10d4af3007a8"
      },
      "execution_count": 4,
      "outputs": [
        {
          "output_type": "stream",
          "name": "stdout",
          "text": [
            "Emily Adams  1234567890\r\n",
            "Emma Harris  678-901-2345\r\n",
            "Emma Harris  456-789-0123\r\n",
            "Emma Turner  901-234-5678\r\n",
            "Emma Martin  901-234-5678\r\n",
            "Time taken : 113.88 miliseconds.\n",
            "\n"
          ]
        }
      ]
    }
  ]
}